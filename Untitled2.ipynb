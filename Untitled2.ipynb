{
  "nbformat": 4,
  "nbformat_minor": 0,
  "metadata": {
    "colab": {
      "provenance": [],
      "authorship_tag": "ABX9TyMlgj648TCzK55Lvb1T68sg",
      "include_colab_link": true
    },
    "kernelspec": {
      "name": "python3",
      "display_name": "Python 3"
    },
    "language_info": {
      "name": "python"
    }
  },
  "cells": [
    {
      "cell_type": "markdown",
      "metadata": {
        "id": "view-in-github",
        "colab_type": "text"
      },
      "source": [
        "<a href=\"https://colab.research.google.com/github/stud-kai-4542320/machine-learning/blob/main/Untitled2.ipynb\" target=\"_parent\"><img src=\"https://colab.research.google.com/assets/colab-badge.svg\" alt=\"Open In Colab\"/></a>"
      ]
    },
    {
      "cell_type": "markdown",
      "source": [
        "# GitHub Integration setup"
      ],
      "metadata": {
        "id": "r4X6gacc26a4"
      }
    },
    {
      "cell_type": "code",
      "execution_count": 35,
      "metadata": {
        "colab": {
          "base_uri": "https://localhost:8080/"
        },
        "id": "Y6qy1CsXwgvG",
        "outputId": "fb234d18-6109-4d26-f0a6-f026d40e1470"
      },
      "outputs": [
        {
          "output_type": "stream",
          "name": "stdout",
          "text": [
            "From https://github.com/stud-kai-4542320/mlcolab\n",
            " * branch            main       -> FETCH_HEAD\n",
            "Already up to date.\n"
          ]
        }
      ],
      "source": [
        "from google.colab import userdata\n",
        "github_pat = userdata.get('github_pat')\n",
        "# !git clone https://{github_pat}@github.com/stud-kai-4542320/mlcolab.git\n",
        "# !cd mlcolab && git remote add origin https://github.com/stud-kai-4542320/mlcolab.git\n",
        "!cd mlcolab && git pull origin main\n"
      ]
    },
    {
      "cell_type": "code",
      "source": [],
      "metadata": {
        "id": "CVCvjruKyzx-"
      },
      "execution_count": 31,
      "outputs": []
    }
  ]
}